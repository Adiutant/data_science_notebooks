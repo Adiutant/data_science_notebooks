{
 "cells": [
  {
   "cell_type": "code",
   "execution_count": 345,
   "outputs": [],
   "source": [
    "import pandas as ps\n",
    "import numpy as np\n",
    "import scipy as sc\n",
    "import re\n",
    "from scipy import spatial"
   ],
   "metadata": {
    "collapsed": false,
    "pycharm": {
     "name": "#%%\n"
    }
   }
  },
  {
   "cell_type": "code",
   "execution_count": 346,
   "outputs": [],
   "source": [
    "def to_lower(item):\n",
    "    return item.lower()\n",
    "lower_function = np.vectorize(to_lower)\n",
    "def del_empty(sentence):\n",
    "    result =[]\n",
    "    for word in sentence:\n",
    "        if not word is None and not word == \"\":\n",
    "            result.append(word)\n",
    "    return  result\n"
   ],
   "metadata": {
    "collapsed": false,
    "pycharm": {
     "name": "#%%\n"
    }
   }
  },
  {
   "cell_type": "code",
   "execution_count": 347,
   "outputs": [],
   "source": [
    "file_sentences = open(\"sentences.txt\", \"r\")\n",
    "sentences = file_sentences.readlines()\n",
    "file_sentences.close()\n",
    "sentences = lower_function(sentences)\n",
    "sentences_arr = []\n",
    "for i in range(len(sentences)):\n",
    "    sentences_arr.append(del_empty(re.split('[^a-z]',sentences[i])))\n"
   ],
   "metadata": {
    "collapsed": false,
    "pycharm": {
     "name": "#%%\n"
    }
   }
  },
  {
   "cell_type": "code",
   "execution_count": 348,
   "outputs": [],
   "source": [
    "words_arr = []\n",
    "for sentence in sentences_arr:\n",
    "    words_arr+=sentence\n",
    "words_arr = np.array(words_arr)"
   ],
   "metadata": {
    "collapsed": false,
    "pycharm": {
     "name": "#%%\n"
    }
   }
  },
  {
   "cell_type": "code",
   "execution_count": 349,
   "outputs": [
    {
     "data": {
      "text/plain": "array(['in', 'comparison', 'to', 'dogs', 'cats', 'have', 'not',\n       'undergone', 'major', 'changes', 'during', 'the', 'domestication',\n       'process', 'as', 'cat', 'simply', 'catenates', 'streams', 'of',\n       'bytes', 'it', 'can', 'be', 'also', 'used', 'to', 'concatenate',\n       'binary', 'files', 'where', 'it', 'will', 'just', 'concatenate',\n       'sequence', 'of', 'bytes', 'a', 'common', 'interactive', 'use',\n       'of', 'cat', 'for', 'a', 'single', 'file', 'is', 'to', 'output',\n       'the', 'content', 'of', 'a', 'file', 'to', 'standard', 'output',\n       'cats', 'can', 'hear', 'sounds', 'too', 'faint', 'or', 'too',\n       'high', 'in', 'frequency', 'for', 'human', 'ears', 'such', 'as',\n       'those', 'made', 'by', 'mice', 'and', 'other', 'small', 'animals',\n       'in', 'one', 'people', 'deliberately', 'tamed', 'cats', 'in', 'a',\n       'process', 'of', 'artificial', 'selection', 'as', 'they', 'were',\n       'useful', 'predators', 'of', 'vermin', 'the', 'domesticated',\n       'cat', 'and', 'its', 'closest', 'wild', 'ancestor', 'are', 'both',\n       'diploid', 'organisms', 'that', 'possess', 'chromosomes', 'and',\n       'roughly', 'genes', 'domestic', 'cats', 'are', 'similar', 'in',\n       'size', 'to', 'the', 'other', 'members', 'of', 'the', 'genus',\n       'felis', 'typically', 'weighing', 'between', 'and', 'kg', 'and',\n       'lb', 'however', 'if', 'the', 'output', 'is', 'piped', 'or',\n       'redirected', 'cat', 'is', 'unnecessary', 'cat', 'with', 'one',\n       'named', 'file', 'is', 'safer', 'where', 'human', 'error', 'is',\n       'a', 'concern', 'one', 'wrong', 'use', 'of', 'the', 'default',\n       'redirection', 'symbol', 'instead', 'of', 'often', 'adjacent',\n       'on', 'keyboards', 'may', 'permanently', 'delete', 'the', 'file',\n       'you', 'were', 'just', 'needing', 'to', 'read', 'in', 'terms',\n       'of', 'legibility', 'a', 'sequence', 'of', 'commands', 'starting',\n       'with', 'cat', 'and', 'connected', 'by', 'pipes', 'has', 'a',\n       'clear', 'left', 'to', 'right', 'flow', 'of', 'information', 'cat',\n       'command', 'is', 'one', 'of', 'the', 'basic', 'commands', 'that',\n       'you', 'learned', 'when', 'you', 'started', 'in', 'the', 'unix',\n       'linux', 'world', 'using', 'cat', 'command', 'the', 'lines',\n       'received', 'from', 'stdin', 'can', 'be', 'redirected', 'to', 'a',\n       'new', 'file', 'using', 'redirection', 'symbols', 'when', 'you',\n       'type', 'simply', 'cat', 'command', 'without', 'any', 'arguments',\n       'it', 'just', 'receives', 'the', 'stdin', 'content', 'and',\n       'displays', 'it', 'in', 'the', 'stdout', 'leopard', 'was',\n       'released', 'on', 'october', 'as', 'the', 'successor', 'of',\n       'tiger', 'version', 'and', 'is', 'available', 'in', 'two',\n       'editions', 'according', 'to', 'apple', 'leopard', 'contains',\n       'over', 'changes', 'and', 'enhancements', 'over', 'its',\n       'predecessor', 'mac', 'os', 'x', 'tiger', 'as', 'of', 'mid',\n       'some', 'apple', 'computers', 'have', 'firmware', 'factory',\n       'installed', 'which', 'will', 'no', 'longer', 'allow',\n       'installation', 'of', 'mac', 'os', 'x', 'leopard', 'since',\n       'apple', 'moved', 'to', 'using', 'intel', 'processors', 'in',\n       'their', 'computers', 'the', 'osx', 'community', 'has',\n       'developed', 'and', 'now', 'also', 'allows', 'mac', 'os', 'x',\n       'tiger', 'and', 'later', 'releases', 'to', 'be', 'installed', 'on',\n       'non', 'apple', 'x', 'based', 'computers', 'os', 'x', 'mountain',\n       'lion', 'was', 'released', 'on', 'july', 'for', 'purchase', 'and',\n       'download', 'through', 'apple', 's', 'mac', 'app', 'store', 'as',\n       'part', 'of', 'a', 'switch', 'to', 'releasing', 'os', 'x',\n       'versions', 'online', 'and', 'every', 'year', 'apple', 'has',\n       'released', 'a', 'small', 'patch', 'for', 'the', 'three', 'most',\n       'recent', 'versions', 'of', 'safari', 'running', 'on', 'os', 'x',\n       'yosemite', 'mavericks', 'and', 'mountain', 'lion', 'the',\n       'mountain', 'lion', 'release', 'marks', 'the', 'second', 'time',\n       'apple', 'has', 'offered', 'an', 'incremental', 'upgrade',\n       'rather', 'than', 'releasing', 'a', 'new', 'cat', 'entirely',\n       'mac', 'os', 'x', 'mountain', 'lion', 'installs', 'in', 'place',\n       'so', 'you', 'won', 't', 'need', 'to', 'create', 'a', 'separate',\n       'disk', 'or', 'run', 'the', 'installation', 'off', 'an',\n       'external', 'drive', 'the', 'fifth', 'major', 'update', 'to',\n       'mac', 'os', 'x', 'leopard', 'contains', 'such', 'a', 'mountain',\n       'of', 'features', 'more', 'than', 'by', 'apple', 's', 'count'],\n      dtype='<U13')"
     },
     "execution_count": 349,
     "metadata": {},
     "output_type": "execute_result"
    }
   ],
   "source": [
    "words_arr"
   ],
   "metadata": {
    "collapsed": false,
    "pycharm": {
     "name": "#%%\n"
    }
   }
  },
  {
   "cell_type": "code",
   "execution_count": 350,
   "outputs": [],
   "source": [
    "\n",
    "dict_data = set(words_arr)\n",
    "dictionary = dict.fromkeys(dict_data)"
   ],
   "metadata": {
    "collapsed": false,
    "pycharm": {
     "name": "#%%\n"
    }
   }
  },
  {
   "cell_type": "code",
   "execution_count": 351,
   "outputs": [],
   "source": [
    "i=0\n",
    "for key in dictionary:\n",
    "    dictionary[key] = i\n",
    "    i+=1"
   ],
   "metadata": {
    "collapsed": false,
    "pycharm": {
     "name": "#%%\n"
    }
   }
  },
  {
   "cell_type": "code",
   "execution_count": 352,
   "outputs": [],
   "source": [
    "stats = []\n",
    "for sentence in sentences_arr:\n",
    "    sentence_in = []\n",
    "    for key in dictionary:\n",
    "        sentence_in.append(sentence.count(key))\n",
    "    stats.append(sentence_in)"
   ],
   "metadata": {
    "collapsed": false,
    "pycharm": {
     "name": "#%%\n"
    }
   }
  },
  {
   "cell_type": "code",
   "execution_count": 353,
   "outputs": [
    {
     "data": {
      "text/plain": "array([[0, 0, 0, ..., 0, 0, 0],\n       [0, 0, 0, ..., 0, 0, 0],\n       [0, 0, 0, ..., 0, 0, 0],\n       ...,\n       [0, 0, 0, ..., 0, 0, 0],\n       [0, 0, 0, ..., 0, 0, 1],\n       [0, 0, 0, ..., 0, 0, 1]])"
     },
     "execution_count": 353,
     "metadata": {},
     "output_type": "execute_result"
    }
   ],
   "source": [
    "np.array(stats)"
   ],
   "metadata": {
    "collapsed": false,
    "pycharm": {
     "name": "#%%\n"
    }
   }
  },
  {
   "cell_type": "code",
   "execution_count": 354,
   "outputs": [],
   "source": [
    "similarity =[]\n",
    "for stat in stats:\n",
    "    similarity.append(spatial.distance.cosine(stats[0],stat))"
   ],
   "metadata": {
    "collapsed": false,
    "pycharm": {
     "name": "#%%\n"
    }
   }
  },
  {
   "cell_type": "code",
   "execution_count": 355,
   "outputs": [
    {
     "data": {
      "text/plain": "[0,\n 0.9527544408738466,\n 0.8644738145642124,\n 0.8951715163278082,\n 0.7770887149698589,\n 0.9402385695332803,\n 0.7327387580875756,\n 0.9258750683338899,\n 0.8842724875284311,\n 0.9055088817476932,\n 0.8328165362273942,\n 0.8804771390665607,\n 0.8396432548525454,\n 0.8703592552895671,\n 0.8740118423302576,\n 0.9442721787424647,\n 0.8406361854220809,\n 0.956644501523794,\n 0.9442721787424647,\n 0.8885443574849294,\n 0.8427572744917122,\n 0.8250364469440588]"
     },
     "execution_count": 355,
     "metadata": {},
     "output_type": "execute_result"
    }
   ],
   "source": [
    "similarity"
   ],
   "metadata": {
    "collapsed": false,
    "pycharm": {
     "name": "#%%\n"
    }
   }
  },
  {
   "cell_type": "code",
   "execution_count": 356,
   "outputs": [],
   "source": [
    "similarity_indexes = list(enumerate(similarity,0))"
   ],
   "metadata": {
    "collapsed": false,
    "pycharm": {
     "name": "#%%\n"
    }
   }
  },
  {
   "cell_type": "code",
   "execution_count": 357,
   "outputs": [],
   "source": [
    "similarity_indexes.sort( key=lambda x: x[1])"
   ],
   "metadata": {
    "collapsed": false,
    "pycharm": {
     "name": "#%%\n"
    }
   }
  },
  {
   "cell_type": "code",
   "execution_count": 358,
   "outputs": [],
   "source": [
    "file =  open(\"submission-1.txt\",\"w\")\n",
    "for elem in similarity_indexes[1:3]:\n",
    "    file.write(str(elem[0]))\n",
    "    file.write(\" \")\n",
    "file.close()"
   ],
   "metadata": {
    "collapsed": false,
    "pycharm": {
     "name": "#%%\n"
    }
   }
  }
 ],
 "metadata": {
  "kernelspec": {
   "display_name": "Python 3",
   "language": "python",
   "name": "python3"
  },
  "language_info": {
   "codemirror_mode": {
    "name": "ipython",
    "version": 2
   },
   "file_extension": ".py",
   "mimetype": "text/x-python",
   "name": "python",
   "nbconvert_exporter": "python",
   "pygments_lexer": "ipython2",
   "version": "2.7.6"
  }
 },
 "nbformat": 4,
 "nbformat_minor": 0
}