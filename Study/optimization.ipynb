{
 "cells": [
  {
   "cell_type": "code",
   "execution_count": 350,
   "outputs": [],
   "source": [
    "import pandas as ps\n",
    "import numpy as np\n",
    "import scipy as sc\n",
    "import re\n",
    "import math\n",
    "from scipy import linalg\n",
    "import scipy as sp\n",
    "from scipy import spatial\n",
    "from scipy import optimize\n",
    "import matplotlib.pyplot as plt"
   ],
   "metadata": {
    "collapsed": false,
    "pycharm": {
     "name": "#%%\n"
    }
   }
  },
  {
   "cell_type": "code",
   "execution_count": 351,
   "outputs": [],
   "source": [
    "def func(x):\n",
    "    return math.sin(x / 5) * math.exp(x / 10) + 5 * math.exp(-x / 2)"
   ],
   "metadata": {
    "collapsed": false,
    "pycharm": {
     "name": "#%%\n"
    }
   }
  },
  {
   "cell_type": "code",
   "execution_count": 352,
   "outputs": [
    {
     "data": {
      "text/plain": "      fun: 1.7452682903447336\n hess_inv: array([[5.98752645]])\n      jac: array([-2.04145908e-06])\n  message: 'Optimization terminated successfully.'\n     nfev: 14\n      nit: 6\n     njev: 7\n   status: 0\n  success: True\n        x: array([4.13627628])"
     },
     "execution_count": 352,
     "metadata": {},
     "output_type": "execute_result"
    }
   ],
   "source": [
    "sp.optimize.minimize(func,x0=2,method=\"BFGS\")"
   ],
   "metadata": {
    "collapsed": false,
    "pycharm": {
     "name": "#%%\n"
    }
   }
  },
  {
   "cell_type": "code",
   "execution_count": 353,
   "outputs": [
    {
     "data": {
      "text/plain": "      fun: -11.898894665981313\n hess_inv: array([[1.67936744]])\n      jac: array([0.])\n  message: 'Optimization terminated successfully.'\n     nfev: 14\n      nit: 6\n     njev: 7\n   status: 0\n  success: True\n        x: array([25.88019321])"
     },
     "execution_count": 353,
     "metadata": {},
     "output_type": "execute_result"
    }
   ],
   "source": [
    "sp.optimize.minimize(func,x0=30,method=\"BFGS\")"
   ],
   "metadata": {
    "collapsed": false,
    "pycharm": {
     "name": "#%%\n"
    }
   }
  },
  {
   "cell_type": "code",
   "execution_count": 354,
   "outputs": [
    {
     "data": {
      "text/plain": "     fun: -11.898894665903104\n     jac: array([9.76996181e-06])\n message: 'Optimization terminated successfully.'\n    nfev: 81\n     nit: 4\n success: True\n       x: array([25.88020925])"
     },
     "execution_count": 354,
     "metadata": {},
     "output_type": "execute_result"
    }
   ],
   "source": [
    "sp.optimize.differential_evolution(func,[(1,30)])"
   ],
   "metadata": {
    "collapsed": false,
    "pycharm": {
     "name": "#%%\n"
    }
   }
  },
  {
   "cell_type": "code",
   "execution_count": 355,
   "outputs": [],
   "source": [
    "def h(x):\n",
    "    return int(func(x))"
   ],
   "metadata": {
    "collapsed": false,
    "pycharm": {
     "name": "#%%\n"
    }
   }
  },
  {
   "cell_type": "code",
   "execution_count": 356,
   "outputs": [
    {
     "data": {
      "text/plain": "<Figure size 432x288 with 1 Axes>",
      "image/png": "[encoded data removed]"
     },
     "metadata": {
      "needs_background": "light"
     },
     "output_type": "display_data"
    },
    {
     "data": {
      "text/plain": "<Figure size 432x288 with 1 Axes>",
      "image/png": "[encoded data removed]"
     },
     "metadata": {
      "needs_background": "light"
     },
     "output_type": "display_data"
    }
   ],
   "source": [
    "y =[]\n",
    "for i in range(1,35):\n",
    "    y.append(func(i))\n",
    "plt.plot(y)\n",
    "plt.show()\n",
    "y =[]\n",
    "for i in range(1,35):\n",
    "    y.append(h(i))\n",
    "plt.plot(y)\n",
    "plt.show()\n"
   ],
   "metadata": {
    "collapsed": false,
    "pycharm": {
     "name": "#%%\n"
    }
   }
  },
  {
   "cell_type": "code",
   "execution_count": 358,
   "outputs": [
    {
     "data": {
      "text/plain": "      fun: -5\n hess_inv: array([[1]])\n      jac: array([0.])\n  message: 'Optimization terminated successfully.'\n     nfev: 2\n      nit: 0\n     njev: 1\n   status: 0\n  success: True\n        x: array([30.])"
     },
     "execution_count": 358,
     "metadata": {},
     "output_type": "execute_result"
    }
   ],
   "source": [
    "sp.optimize.minimize(h,x0=30,method=\"BFGS\")"
   ],
   "metadata": {
    "collapsed": false,
    "pycharm": {
     "name": "#%%\n"
    }
   }
  },
  {
   "cell_type": "code",
   "execution_count": 359,
   "outputs": [
    {
     "data": {
      "text/plain": "     fun: -11.0\n message: 'Optimization terminated successfully.'\n    nfev: 122\n     nit: 7\n success: True\n       x: array([26.6750503])"
     },
     "execution_count": 359,
     "metadata": {},
     "output_type": "execute_result"
    }
   ],
   "source": [
    "sp.optimize.differential_evolution(h,[(1,30)])"
   ],
   "metadata": {
    "collapsed": false,
    "pycharm": {
     "name": "#%%\n"
    }
   }
  }
 ],
 "metadata": {
  "kernelspec": {
   "display_name": "Python 3",
   "language": "python",
   "name": "python3"
  },
  "language_info": {
   "codemirror_mode": {
    "name": "ipython",
    "version": 2
   },
   "file_extension": ".py",
   "mimetype": "text/x-python",
   "name": "python",
   "nbconvert_exporter": "python",
   "pygments_lexer": "ipython2",
   "version": "2.7.6"
  }
 },
 "nbformat": 4,
 "nbformat_minor": 0
}