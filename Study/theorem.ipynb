{
 "cells": [
  {
   "cell_type": "code",
   "execution_count": 406,
   "metadata": {
    "collapsed": true
   },
   "outputs": [],
   "source": [
    "import scipy.stats as sts\n",
    "import pandas as pd\n",
    "import numpy as np\n",
    "import matplotlib.pyplot as plt\n",
    "import math\n",
    "%matplotlib inline"
   ]
  },
  {
   "cell_type": "markdown",
   "source": [
    "Генерируем бета-распределение и выборку размера 1000 из нее."
   ],
   "metadata": {
    "collapsed": false,
    "pycharm": {
     "name": "#%% md\n"
    }
   }
  },
  {
   "cell_type": "code",
   "execution_count": 407,
   "outputs": [],
   "source": [
    "a, b = 0.5, 0.5\n",
    "df = 2\n",
    "dist  = sts.beta(a,b)\n",
    "sample = dist.rvs(1000)"
   ],
   "metadata": {
    "collapsed": false,
    "pycharm": {
     "name": "#%%\n"
    }
   }
  },
  {
   "cell_type": "markdown",
   "source": [
    "Строим гистограмму и теоретическую плотность функции распределения."
   ],
   "metadata": {
    "collapsed": false,
    "pycharm": {
     "name": "#%% md\n"
    }
   }
  },
  {
   "cell_type": "code",
   "execution_count": 408,
   "outputs": [],
   "source": [
    "x = np.linspace(0,1, 100)"
   ],
   "metadata": {
    "collapsed": false,
    "pycharm": {
     "name": "#%%\n"
    }
   }
  },
  {
   "cell_type": "code",
   "execution_count": 409,
   "outputs": [
    {
     "data": {
      "text/plain": "<Figure size 432x288 with 1 Axes>",
      "image/png": "[encoded data removed]"
     },
     "metadata": {
      "needs_background": "light"
     },
     "output_type": "display_data"
    }
   ],
   "source": [
    "p,ax = plt.subplots()\n",
    "ax.hist(sample,density=True, histtype='stepfilled', alpha=0.2)\n",
    "ax.plot(x, dist.pdf(x),'r-', label='theoretical pdf', alpha=0.7)\n",
    "ax.legend(loc='best', frameon=False)\n",
    "plt.ylabel(\"Frequency\")\n",
    "plt.xlabel(\"Value\")\n",
    "plt.show()"
   ],
   "metadata": {
    "collapsed": false,
    "pycharm": {
     "name": "#%%\n"
    }
   }
  },
  {
   "cell_type": "markdown",
   "source": [
    "Функция возвращающая выборку размера size выборочных средних из выборок размера n распределения dist."
   ],
   "metadata": {
    "collapsed": false,
    "pycharm": {
     "name": "#%% md\n"
    }
   }
  },
  {
   "cell_type": "code",
   "execution_count": 410,
   "outputs": [],
   "source": [
    "def make_chosen_means(n,size,dist_l):\n",
    "    means = []\n",
    "    for i in range(size):\n",
    "        sum = 0\n",
    "        choise = dist_l.rvs(n)\n",
    "        for j in range(n):\n",
    "            sum+=choise[j]\n",
    "        means.append(sum/n)\n",
    "    return means"
   ],
   "metadata": {
    "collapsed": false,
    "pycharm": {
     "name": "#%%\n"
    }
   }
  },
  {
   "cell_type": "markdown",
   "source": [
    "Аппроксимация выборками размера 2"
   ],
   "metadata": {
    "collapsed": false,
    "pycharm": {
     "name": "#%% md\n"
    }
   }
  },
  {
   "cell_type": "code",
   "execution_count": 411,
   "outputs": [],
   "source": [
    "chosen_means = make_chosen_means(2,1000,dist)"
   ],
   "metadata": {
    "collapsed": false,
    "pycharm": {
     "name": "#%%\n"
    }
   }
  },
  {
   "cell_type": "code",
   "execution_count": 412,
   "outputs": [
    {
     "data": {
      "text/plain": "<Figure size 432x288 with 1 Axes>",
      "image/png": "[encoded data removed]"
     },
     "metadata": {
      "needs_background": "light"
     },
     "output_type": "display_data"
    }
   ],
   "source": [
    "p,ax = plt.subplots()\n",
    "ax.hist(chosen_means,density=True, histtype='stepfilled', alpha=0.2)\n",
    "plt.ylabel(\"Frequency\")\n",
    "plt.xlabel(\"Value\")\n",
    "plt.show()"
   ],
   "metadata": {
    "collapsed": false,
    "pycharm": {
     "name": "#%%\n"
    }
   }
  },
  {
   "cell_type": "markdown",
   "source": [
    "Аппроксимация выборками размера 4"
   ],
   "metadata": {
    "collapsed": false
   }
  },
  {
   "cell_type": "code",
   "execution_count": 413,
   "outputs": [],
   "source": [
    "chosen_means = make_chosen_means(4,1000,dist)"
   ],
   "metadata": {
    "collapsed": false,
    "pycharm": {
     "name": "#%%\n"
    }
   }
  },
  {
   "cell_type": "code",
   "execution_count": 414,
   "outputs": [
    {
     "data": {
      "text/plain": "<Figure size 432x288 with 1 Axes>",
      "image/png": "[encoded data removed]"
     },
     "metadata": {
      "needs_background": "light"
     },
     "output_type": "display_data"
    }
   ],
   "source": [
    "p,ax = plt.subplots()\n",
    "ax.hist(chosen_means,density=True, histtype='stepfilled', alpha=0.2)\n",
    "plt.ylabel(\"Frequency\")\n",
    "plt.xlabel(\"Value\")\n",
    "plt.show()"
   ],
   "metadata": {
    "collapsed": false,
    "pycharm": {
     "name": "#%%\n"
    }
   }
  },
  {
   "cell_type": "markdown",
   "source": [
    "Аппроксимация выборками размера 30"
   ],
   "metadata": {
    "collapsed": false
   }
  },
  {
   "cell_type": "code",
   "execution_count": 415,
   "outputs": [],
   "source": [
    "chosen_means = make_chosen_means(30,1000,dist)"
   ],
   "metadata": {
    "collapsed": false,
    "pycharm": {
     "name": "#%%\n"
    }
   }
  },
  {
   "cell_type": "code",
   "execution_count": 416,
   "outputs": [
    {
     "data": {
      "text/plain": "<Figure size 432x288 with 1 Axes>",
      "image/png": "[encoded data removed]"
     },
     "metadata": {
      "needs_background": "light"
     },
     "output_type": "display_data"
    }
   ],
   "source": [
    "p,ax = plt.subplots()\n",
    "ax.hist(chosen_means,density=True, histtype='stepfilled', alpha=0.2)\n",
    "plt.ylabel(\"Frequency\")\n",
    "plt.xlabel(\"Value\")\n",
    "plt.show()"
   ],
   "metadata": {
    "collapsed": false,
    "pycharm": {
     "name": "#%%\n"
    }
   }
  },
  {
   "cell_type": "markdown",
   "source": [
    "Мат. ожидание бета распределения.\n",
    "$$\\mathbb{E[X]} = \\alpha/(\\alpha + \\beta) = 0.5$$\n"
   ],
   "metadata": {
    "collapsed": false,
    "pycharm": {
     "name": "#%% md\n"
    }
   }
  },
  {
   "cell_type": "markdown",
   "source": [
    "Дисперсия бета распределения.\n",
    "$$\\mathbb{D[X] = \\alpha\\beta/(\\alpha\\beta)^2(\\alpha + \\beta 1) = 0.125}$$"
   ],
   "metadata": {
    "collapsed": false,
    "pycharm": {
     "name": "#%% md\n"
    }
   }
  },
  {
   "cell_type": "markdown",
   "source": [
    "Формула аппроксимации.\n",
    "$$\\mathbb{\\bar{X}_n} \\approx \\mathbb{N(E[X],D[X]/n)}\n",
    "$$"
   ],
   "metadata": {
    "collapsed": false,
    "pycharm": {
     "name": "#%% md\n"
    }
   }
  },
  {
   "cell_type": "markdown",
   "source": [
    "$$\\Longrightarrow \\mu = 0.5 ; \\sigma^2 = 0.125/n\n",
    "$$"
   ],
   "metadata": {
    "collapsed": false,
    "pycharm": {
     "name": "#%% md\n"
    }
   }
  },
  {
   "cell_type": "markdown",
   "source": [
    "Вычисление параметров нормального распределения, аппроксимирующего наше распределение, исходя из формулы выше"
   ],
   "metadata": {
    "collapsed": false,
    "pycharm": {
     "name": "#%% md\n"
    }
   }
  },
  {
   "cell_type": "code",
   "execution_count": 417,
   "outputs": [],
   "source": [
    "def norm_params(expectation,dispersion,n):\n",
    "    return expectation , dispersion/n"
   ],
   "metadata": {
    "collapsed": false,
    "pycharm": {
     "name": "#%%\n"
    }
   }
  },
  {
   "cell_type": "code",
   "execution_count": 418,
   "outputs": [],
   "source": [
    "chosen_means = make_chosen_means(2,1000,dist)\n",
    "mu,sigma = norm_params(0.5,0.125,2)"
   ],
   "metadata": {
    "collapsed": false,
    "pycharm": {
     "name": "#%%\n"
    }
   }
  },
  {
   "cell_type": "markdown",
   "source": [
    "Строим графики плотности нормального распределения, аппроксимирующие распределение выборочных средних (для каждого ранее выбранного n), показанное на гистограмме."
   ],
   "metadata": {
    "collapsed": false,
    "pycharm": {
     "name": "#%% md\n"
    }
   }
  },
  {
   "cell_type": "code",
   "execution_count": 419,
   "outputs": [
    {
     "data": {
      "text/plain": "<Figure size 432x288 with 1 Axes>",
      "image/png": "[encoded data removed]"
     },
     "metadata": {
      "needs_background": "light"
     },
     "output_type": "display_data"
    }
   ],
   "source": [
    "\n",
    "p,ax = plt.subplots()\n",
    "ax.hist(chosen_means,density=True, histtype='stepfilled', alpha=0.2)\n",
    "ax.plot(x, sts.norm.pdf(x,mu,math.sqrt(sigma)),'r-', label='theoretical pdf', alpha=0.7)\n",
    "ax.legend(loc='best', frameon=False)\n",
    "plt.ylabel(\"Frequency\")\n",
    "plt.xlabel(\"Value\")\n",
    "plt.show()"
   ],
   "metadata": {
    "collapsed": false,
    "pycharm": {
     "name": "#%%\n"
    }
   }
  },
  {
   "cell_type": "code",
   "execution_count": 420,
   "outputs": [],
   "source": [
    "chosen_means = make_chosen_means(4,1000,dist)\n",
    "mu,sigma = norm_params(0.5,0.125,4)"
   ],
   "metadata": {
    "collapsed": false,
    "pycharm": {
     "name": "#%%\n"
    }
   }
  },
  {
   "cell_type": "code",
   "execution_count": 421,
   "outputs": [
    {
     "data": {
      "text/plain": "<Figure size 432x288 with 1 Axes>",
      "image/png": "[encoded data removed]"
     },
     "metadata": {
      "needs_background": "light"
     },
     "output_type": "display_data"
    }
   ],
   "source": [
    "\n",
    "p,ax = plt.subplots()\n",
    "ax.hist(chosen_means,density=True, histtype='stepfilled', alpha=0.2)\n",
    "ax.plot(x, sts.norm.pdf(x,mu,math.sqrt(sigma)),'r-', label='theoretical pdf', alpha=0.7)\n",
    "ax.legend(loc='best', frameon=False)\n",
    "plt.ylabel(\"Frequency\")\n",
    "plt.xlabel(\"Value\")\n",
    "plt.show()"
   ],
   "metadata": {
    "collapsed": false,
    "pycharm": {
     "name": "#%%\n"
    }
   }
  },
  {
   "cell_type": "code",
   "execution_count": 422,
   "outputs": [],
   "source": [
    "chosen_means = make_chosen_means(30,1000,dist)\n",
    "mu,sigma = norm_params(0.5,0.125,30)"
   ],
   "metadata": {
    "collapsed": false,
    "pycharm": {
     "name": "#%%\n"
    }
   }
  },
  {
   "cell_type": "code",
   "execution_count": 423,
   "outputs": [
    {
     "data": {
      "text/plain": "<Figure size 432x288 with 1 Axes>",
      "image/png": "[encoded data removed]"
     },
     "metadata": {
      "needs_background": "light"
     },
     "output_type": "display_data"
    }
   ],
   "source": [
    "\n",
    "p,ax = plt.subplots()\n",
    "ax.hist(chosen_means,density=True, histtype='stepfilled', alpha=0.2)\n",
    "ax.plot(x, sts.norm.pdf(x,mu,math.sqrt(sigma)),'r-', label='theoretical pdf', alpha=0.7)\n",
    "ax.legend(loc='best', frameon=False)\n",
    "plt.ylabel(\"Frequency\")\n",
    "plt.xlabel(\"Value\")\n",
    "plt.show()"
   ],
   "metadata": {
    "collapsed": false,
    "pycharm": {
     "name": "#%%\n"
    }
   }
  },
  {
   "cell_type": "markdown",
   "source": [
    "Выводы:\n",
    "1) Очевидно, что ЦПТ работает и плотность нормального распределения с параметрами $$ \\mu$$ и $$\\sigma$$, соответствующими N - размеру выборок при вычислении выборочных средних, хорошо аппроксимирует плотность  распределения выборочных средних, вычисленных на выборках имеющих отличное от нормального распределение."
   ],
   "metadata": {
    "collapsed": false,
    "pycharm": {
     "name": "#%% md\n"
    }
   }
  },
  {
   "cell_type": "markdown",
   "source": [
    "2) В случае с рассматриваемым бета-распределением, достаточно хорошая аппроксимация наблюдается уже при n > 3, очевидно, что результат может варьироватся в зависимости от плотности распределения в  исходных выборках, и от приближенности плотности распределения в выборках к плотности нормального распределения."
   ],
   "metadata": {
    "collapsed": false,
    "pycharm": {
     "name": "#%% md\n"
    }
   }
  },
  {
   "cell_type": "markdown",
   "source": [
    "3) Очевидно, что с увеличением N растет качетсво аппроксимации плотности распределения выборочных средних функцией плотности нормального распределения."
   ],
   "metadata": {
    "collapsed": false,
    "pycharm": {
     "name": "#%% md\n"
    }
   }
  }
 ],
 "metadata": {
  "kernelspec": {
   "display_name": "Python 3",
   "language": "python",
   "name": "python3"
  },
  "language_info": {
   "codemirror_mode": {
    "name": "ipython",
    "version": 2
   },
   "file_extension": ".py",
   "mimetype": "text/x-python",
   "name": "python",
   "nbconvert_exporter": "python",
   "pygments_lexer": "ipython2",
   "version": "2.7.6"
  }
 },
 "nbformat": 4,
 "nbformat_minor": 0
}